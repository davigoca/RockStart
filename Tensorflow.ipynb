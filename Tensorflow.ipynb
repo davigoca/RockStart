{
 "cells": [
  {
   "cell_type": "markdown",
   "metadata": {},
   "source": [
    "# Deep Learning with TensorFlow and Keras\n",
    "\n",
    "### J. C. Vásquez-Correa\n",
    "\n",
    "## Doc\n",
    "\n",
    "1. https://www.tensorflow.org/\n",
    "2. https://keras.io/\n",
    "\n",
    "\n",
    "## Install\n",
    "\n",
    "pip install tensorflow\n",
    "\n",
    "pip install keras\n",
    "\n",
    "\n",
    "\n",
    "<img src=\"https://www.tensorflow.org/_static/images/tensorflow/logo.png\" width=\"250\" align=\"middle\">\n",
    "<img src=\"https://viblo.asia/uploads/1b042898-d4d8-4a90-b7aa-831eea3a5f83.png\" width=\"250\" align=\"middle\">\n",
    "\n",
    "\n",
    "## What is Tensorflow?\n",
    "\n",
    "Open source software library for numerical computation using data flow graphs. \n",
    "1. Nodes = represent mathematical operations,\n",
    "2. Tensors = The central unit of data. \n",
    "\n",
    "---\n",
    "Run over \n",
    "1. CPUs\n",
    "1. GPUs\n",
    "1. desktop,\n",
    "1. Server\n",
    "1. Mobile device with a single API.\n"
   ]
  },
  {
   "cell_type": "code",
   "execution_count": 2,
   "metadata": {},
   "outputs": [
    {
     "name": "stdout",
     "output_type": "stream",
     "text": [
      "Tensor(\"Const:0\", shape=(), dtype=float32)\n",
      "Tensor(\"Const_1:0\", shape=(), dtype=float32)\n"
     ]
    },
    {
     "data": {
      "text/plain": [
       "7.0"
      ]
     },
     "execution_count": 2,
     "metadata": {},
     "output_type": "execute_result"
    }
   ],
   "source": [
    "import tensorflow as tf\n",
    "\n",
    "sess=tf.Session()\n",
    "\n",
    "node1 = tf.constant(3.0, dtype=tf.float32)\n",
    "node2 = tf.constant(4.0) # also tf.float32 implicitly\n",
    "print(node1)\n",
    "print(node2)\n",
    "node3 = tf.add(node1, node2)\n",
    "sess.run(node3)"
   ]
  },
  {
   "cell_type": "markdown",
   "metadata": {},
   "source": [
    "### Linear model"
   ]
  },
  {
   "cell_type": "code",
   "execution_count": 3,
   "metadata": {},
   "outputs": [
    {
     "name": "stdout",
     "output_type": "stream",
     "text": [
      "[ 0.          0.30000001  0.60000002  0.90000004]\n"
     ]
    }
   ],
   "source": [
    "\n",
    "W = tf.Variable([.3], dtype=tf.float32)\n",
    "b = tf.Variable([-.3], dtype=tf.float32)\n",
    "x = tf.placeholder(tf.float32)\n",
    "linear_model = W * x + b\n",
    "\n",
    "init = tf.global_variables_initializer()\n",
    "sess.run(init)\n",
    "print(sess.run(linear_model, {x:[1,2,3,4]}))\n"
   ]
  },
  {
   "cell_type": "markdown",
   "metadata": {},
   "source": [
    "### loss functions\n",
    "\n",
    "$$MAE=\\sum\\sqrt{\\widehat{y}-y}$$\n",
    "\n",
    "$$Lcross=-\\sum y \\cdot \\mathrm{log}(\\widehat{y})$$"
   ]
  },
  {
   "cell_type": "code",
   "execution_count": 4,
   "metadata": {},
   "outputs": [
    {
     "name": "stdout",
     "output_type": "stream",
     "text": [
      "23.66\n"
     ]
    }
   ],
   "source": [
    "y = tf.placeholder(tf.float32)\n",
    "squared_deltas = tf.square(linear_model - y)\n",
    "loss = tf.reduce_sum(squared_deltas)\n",
    "print(sess.run(loss, {x:[1,2,3,4], y:[0,-1,-2,-3]}))\n"
   ]
  },
  {
   "cell_type": "markdown",
   "metadata": {},
   "source": [
    "## Train: \n",
    "\n",
    "Stochastic gradient descendent\n",
    "\n",
    "<img src=\"https://qph.ec.quoracdn.net/main-qimg-3a305b12d9030dcd3978e40461cb9ea1\" width=\"500\" align=\"middle\">\n",
    "\n"
   ]
  },
  {
   "cell_type": "code",
   "execution_count": 5,
   "metadata": {},
   "outputs": [
    {
     "name": "stdout",
     "output_type": "stream",
     "text": [
      "[array([-0.9999969], dtype=float32), array([ 0.99999082], dtype=float32)]\n"
     ]
    }
   ],
   "source": [
    "LearningRate=0.01\n",
    "iterations=1000\n",
    "\n",
    "optimizer = tf.train.GradientDescentOptimizer(LearningRate) \n",
    "train = optimizer.minimize(loss)\n",
    "\n",
    "\n",
    "sess.run(init) # reset values to incorrect defaults.\n",
    "for i in range(iterations):\n",
    "    sess.run(train, {x:[1,2,3,4], y:[0,-1,-2,-3]})\n",
    "\n",
    "print(sess.run([W, b]))\n"
   ]
  },
  {
   "cell_type": "markdown",
   "metadata": {},
   "source": [
    "## Complete linear model for regression"
   ]
  },
  {
   "cell_type": "code",
   "execution_count": 6,
   "metadata": {},
   "outputs": [
    {
     "name": "stdout",
     "output_type": "stream",
     "text": [
      "W: [-0.9999969] b: [ 0.99999082] loss: 5.69997e-11\n"
     ]
    }
   ],
   "source": [
    "import numpy as np\n",
    "import tensorflow as tf\n",
    "\n",
    "# Model parameters\n",
    "W = tf.Variable([.3], dtype=tf.float32)\n",
    "b = tf.Variable([-.3], dtype=tf.float32)\n",
    "# Model input and output\n",
    "x = tf.placeholder(tf.float32)\n",
    "linear_model = W * x + b\n",
    "y = tf.placeholder(tf.float32)\n",
    "# loss\n",
    "loss = tf.reduce_sum(tf.square(linear_model - y)) # sum of the squares\n",
    "# optimizer\n",
    "optimizer = tf.train.GradientDescentOptimizer(0.01)\n",
    "train = optimizer.minimize(loss)\n",
    "\n",
    "\n",
    "# training data\n",
    "x_train = [1,2,3,4]\n",
    "y_train = [0,-1,-2,-3]\n",
    "# training loop\n",
    "\n",
    "\n",
    "init = tf.global_variables_initializer()\n",
    "sess = tf.Session()\n",
    "sess.run(init) # reset values to wrong\n",
    "for i in range(1000):\n",
    "    sess.run(train, {x:x_train, y:y_train})\n",
    "\n",
    "# evaluate training accuracy\n",
    "curr_W, curr_b, curr_loss = sess.run([W, b, loss], {x:x_train, y:y_train})\n",
    "print(\"W: %s b: %s loss: %s\"%(curr_W, curr_b, curr_loss))\n"
   ]
  },
  {
   "cell_type": "markdown",
   "metadata": {},
   "source": [
    "<img src=\"https://www.tensorflow.org/images/getting_started_final.png\" width=\"700\" align=\"middle\">\n"
   ]
  },
  {
   "cell_type": "markdown",
   "metadata": {},
   "source": [
    "## Logistic regression\n",
    "\n",
    "\n"
   ]
  },
  {
   "cell_type": "code",
   "execution_count": 7,
   "metadata": {},
   "outputs": [
    {
     "name": "stdout",
     "output_type": "stream",
     "text": [
      "Extracting MNIST_data/train-images-idx3-ubyte.gz\n",
      "Extracting MNIST_data/train-labels-idx1-ubyte.gz\n",
      "Extracting MNIST_data/t10k-images-idx3-ubyte.gz\n",
      "Extracting MNIST_data/t10k-labels-idx1-ubyte.gz\n"
     ]
    }
   ],
   "source": [
    "from tensorflow.examples.tutorials.mnist import input_data\n",
    "mnist = input_data.read_data_sets(\"MNIST_data/\", one_hot=True)\n",
    "\n",
    "\n"
   ]
  },
  {
   "cell_type": "markdown",
   "metadata": {},
   "source": [
    "### 28x28 images handwrting digits\n",
    "\n",
    "<img src=\"https://www.tensorflow.org/images/MNIST-Matrix.png\" width=\"500\" align=\"middle\">\n",
    "\n",
    "<img src=\"https://www.tensorflow.org/images/mnist-train-xs.png\" width=\"500\" align=\"middle\">\n",
    "\n"
   ]
  },
  {
   "cell_type": "markdown",
   "metadata": {},
   "source": []
  },
  {
   "cell_type": "markdown",
   "metadata": {},
   "source": []
  },
  {
   "cell_type": "code",
   "execution_count": 8,
   "metadata": {},
   "outputs": [
    {
     "name": "stdout",
     "output_type": "stream",
     "text": [
      "0\n",
      "100\n",
      "200\n",
      "300\n",
      "400\n",
      "500\n",
      "600\n",
      "700\n",
      "800\n",
      "900\n"
     ]
    }
   ],
   "source": [
    "\n",
    "x = tf.placeholder(tf.float32, [None, 784])\n",
    "y_true = tf.placeholder(tf.float32, [None, 10])\n",
    "\n",
    "W = tf.Variable(tf.zeros([784, 10]))\n",
    "b = tf.Variable(tf.zeros([10]))\n",
    "y_pred = tf.nn.softmax(tf.matmul(x, W) + b)\n",
    "\n",
    "cross_entropy = tf.reduce_mean(-tf.reduce_sum(y_true * tf.log(y_pred), reduction_indices=[1]))\n",
    "\n",
    "train_step = tf.train.GradientDescentOptimizer(0.05).minimize(cross_entropy)\n",
    "\n",
    "sess = tf.InteractiveSession()\n",
    "\n",
    "tf.global_variables_initializer().run()\n",
    "\n",
    "for j in range(1000):\n",
    "    batch_xs, batch_ys = mnist.train.next_batch(100)\n",
    "    sess.run(train_step, feed_dict={x: batch_xs, y_true: batch_ys})\n",
    "    if j%100==0:\n",
    "        print(j)\n"
   ]
  },
  {
   "cell_type": "code",
   "execution_count": 9,
   "metadata": {},
   "outputs": [
    {
     "name": "stdout",
     "output_type": "stream",
     "text": [
      "0.9007\n"
     ]
    }
   ],
   "source": [
    "correct_prediction = tf.equal(tf.argmax(y_true,1), tf.argmax(y_pred,1))\n",
    "accuracy = tf.reduce_mean(tf.cast(correct_prediction, tf.float32))\n",
    "print(sess.run(accuracy, feed_dict={x: mnist.test.images, y_true: mnist.test.labels}))\n"
   ]
  },
  {
   "cell_type": "markdown",
   "metadata": {},
   "source": [
    "### Link\n",
    "http://playground.tensorflow.org"
   ]
  },
  {
   "cell_type": "code",
   "execution_count": 16,
   "metadata": {},
   "outputs": [
    {
     "name": "stdout",
     "output_type": "stream",
     "text": [
      "step 0, training accuracy 0.5\n",
      "step 500, training accuracy 0.79\n",
      "step 1000, training accuracy 0.83\n",
      "step 1500, training accuracy 0.89\n",
      "step 2000, training accuracy 0.87\n",
      "step 2500, training accuracy 0.79\n",
      "step 3000, training accuracy 0.92\n",
      "step 3500, training accuracy 0.86\n",
      "step 4000, training accuracy 0.83\n",
      "step 4500, training accuracy 0.93\n",
      "step 5000, training accuracy 0.94\n",
      "step 5500, training accuracy 0.93\n",
      "step 6000, training accuracy 0.92\n",
      "step 6500, training accuracy 0.88\n",
      "step 7000, training accuracy 0.92\n",
      "step 7500, training accuracy 0.89\n",
      "step 8000, training accuracy 0.9\n",
      "step 8500, training accuracy 0.88\n",
      "step 9000, training accuracy 0.89\n",
      "step 9500, training accuracy 0.89\n"
     ]
    }
   ],
   "source": [
    "\n",
    "\n",
    "x = tf.placeholder(tf.float32, [None, 784])\n",
    "y_true = tf.placeholder(tf.float32, [None, 10])\n",
    "\n",
    "W1 = tf.Variable(tf.zeros([784, 10]))\n",
    "b1 = tf.Variable(tf.zeros([10]))\n",
    "\n",
    "y_pred = tf.nn.softmax(tf.matmul(x, W1) + b1)\n",
    "\n",
    "cross_entropy = tf.reduce_mean(tf.nn.softmax_cross_entropy_with_logits(labels=y_true, logits=y_pred))\n",
    "\n",
    "train_step = tf.train.GradientDescentOptimizer(0.05).minimize(cross_entropy)\n",
    "\n",
    "correct_prediction = tf.equal(tf.argmax(y_pred,1), tf.argmax(y_true,1))\n",
    "accuracy = tf.reduce_mean(tf.cast(correct_prediction, tf.float32))\n",
    "\n",
    "\n",
    "\n",
    "sess = tf.InteractiveSession()\n",
    "\n",
    "tf.global_variables_initializer().run()\n",
    "acc=np.zeros(10000)\n",
    "for j in range(10000):\n",
    "    batch_xs, batch_ys = mnist.train.next_batch(100)\n",
    "    sess.run(train_step, feed_dict={x: batch_xs, y_true: batch_ys})\n",
    "    acc[j]=accuracy.eval(feed_dict={x:batch_xs, y_true: batch_ys})\n",
    "    if j%500==0:\n",
    "        print('step %d, training accuracy %g' % (j, acc[j]))\n",
    "\n",
    "\n"
   ]
  },
  {
   "cell_type": "code",
   "execution_count": 17,
   "metadata": {},
   "outputs": [
    {
     "data": {
      "image/png": "[encoded data removed]",
      "text/plain": [
       "<matplotlib.figure.Figure at 0x7fa13f4635f8>"
      ]
     },
     "metadata": {},
     "output_type": "display_data"
    },
    {
     "name": "stdout",
     "output_type": "stream",
     "text": [
      "accuracy= 90.8200025558\n"
     ]
    }
   ],
   "source": [
    "import matplotlib.pyplot as plt\n",
    "%matplotlib inline\n",
    "plt.plot(acc)\n",
    "plt.show()\n",
    "print(\"accuracy=\", 100*accuracy.eval(feed_dict={x: mnist.test.images, y_true: mnist.test.labels}))"
   ]
  },
  {
   "cell_type": "markdown",
   "metadata": {},
   "source": [
    "# Fully connected neural network"
   ]
  },
  {
   "cell_type": "code",
   "execution_count": 48,
   "metadata": {},
   "outputs": [
    {
     "name": "stdout",
     "output_type": "stream",
     "text": [
      "step 0, training accuracy 0.101562\n",
      "step 500, training accuracy 0.34375\n",
      "step 1000, training accuracy 0.429688\n",
      "step 1500, training accuracy 0.4375\n",
      "step 2000, training accuracy 0.4375\n",
      "step 2500, training accuracy 0.546875\n",
      "step 3000, training accuracy 0.445312\n",
      "step 3500, training accuracy 0.523438\n",
      "step 4000, training accuracy 0.53125\n",
      "step 4500, training accuracy 0.492188\n",
      "step 5000, training accuracy 0.539062\n",
      "step 5500, training accuracy 0.492188\n",
      "step 6000, training accuracy 0.5\n",
      "step 6500, training accuracy 0.515625\n",
      "step 7000, training accuracy 0.546875\n",
      "step 7500, training accuracy 0.53125\n",
      "step 8000, training accuracy 0.570312\n",
      "step 8500, training accuracy 0.53125\n",
      "step 9000, training accuracy 0.492188\n",
      "step 9500, training accuracy 0.59375\n"
     ]
    }
   ],
   "source": [
    "\n",
    "\n",
    "x = tf.placeholder(tf.float32, [None, 784])\n",
    "y_true = tf.placeholder(tf.float32, [None, 10])\n",
    "\n",
    "W1 = tf.Variable(tf.truncated_normal([784, 1024]))\n",
    "b1 = tf.Variable(tf.truncated_normal([1024]))\n",
    "\n",
    "\n",
    "W2 = tf.Variable(tf.truncated_normal([1024, 10]))\n",
    "b2 = tf.Variable(tf.truncated_normal([10]))\n",
    "\n",
    "\n",
    "h1=tf.nn.relu(tf.matmul(x, W1) + b1)\n",
    "\n",
    "y_pred = tf.nn.softmax(tf.matmul(h1, W2) + b2)\n",
    "\n",
    "cross_entropy = tf.reduce_mean(tf.nn.softmax_cross_entropy_with_logits(labels=y_true, logits=y_pred))\n",
    "\n",
    "train_step = tf.train.GradientDescentOptimizer(0.1).minimize(cross_entropy)\n",
    "\n",
    "correct_prediction = tf.equal(tf.argmax(y_pred,1), tf.argmax(y_true,1))\n",
    "accuracy = tf.reduce_mean(tf.cast(correct_prediction, tf.float32))\n",
    "\n",
    "\n",
    "\n",
    "sess = tf.InteractiveSession()\n",
    "\n",
    "tf.global_variables_initializer().run()\n",
    "acc=np.zeros(10000)\n",
    "for j in range(10000):\n",
    "    batch_xs, batch_ys = mnist.train.next_batch(128)\n",
    "    sess.run(train_step, feed_dict={x: batch_xs, y_true: batch_ys})\n",
    "    acc[j]=accuracy.eval(feed_dict={x:batch_xs, y_true: batch_ys})\n",
    "    if j%500==0:\n",
    "        print('step %d, training accuracy %g' % (j, acc[j]))"
   ]
  },
  {
   "cell_type": "code",
   "execution_count": 49,
   "metadata": {},
   "outputs": [
    {
     "data": {
      "image/png": "[encoded data removed]",
      "text/plain": [
       "<matplotlib.figure.Figure at 0x7fa0d3d79e80>"
      ]
     },
     "metadata": {},
     "output_type": "display_data"
    },
    {
     "name": "stdout",
     "output_type": "stream",
     "text": [
      "0.5569\n"
     ]
    }
   ],
   "source": [
    "plt.plot(acc)\n",
    "plt.show()\n",
    "print(accuracy.eval(feed_dict={x: mnist.test.images, y_true: mnist.test.labels}))"
   ]
  },
  {
   "cell_type": "markdown",
   "metadata": {},
   "source": [
    "## Build a Multilayer Convolutional Network\n",
    "<img src=\"http://d3kbpzbmcynnmx.cloudfront.net/wp-content/uploads/2015/11/Screen-Shot-2015-11-07-at-7.26.20-AM.png\" width=\"800\" align=\"middle\">\n",
    "\n",
    "### Auxiliar functions\n"
   ]
  },
  {
   "cell_type": "code",
   "execution_count": 14,
   "metadata": {
    "collapsed": true
   },
   "outputs": [],
   "source": [
    "def weight_variable(shape):\n",
    "    initial = tf.truncated_normal(shape, stddev=0.1)\n",
    "    return tf.Variable(initial)\n",
    "\n",
    "def bias_variable(shape):\n",
    "    initial = tf.constant(0.1, shape=shape)\n",
    "    return tf.Variable(initial)\n",
    "\n",
    "\n",
    "def conv2d(x, W):\n",
    "    return tf.nn.conv2d(x, W, strides=[1, 1, 1, 1], padding='SAME')\n",
    "\n",
    "def max_pool_2x2(x):\n",
    "    return tf.nn.max_pool(x, ksize=[1, 2, 2, 1],\n",
    "                        strides=[1, 2, 2, 1], padding='SAME')\n"
   ]
  },
  {
   "cell_type": "markdown",
   "metadata": {},
   "source": [
    "### Network architecture"
   ]
  },
  {
   "cell_type": "code",
   "execution_count": 23,
   "metadata": {
    "collapsed": true
   },
   "outputs": [],
   "source": [
    "\n",
    "W_conv1 = weight_variable([5, 5, 1, 32])\n",
    "b_conv1 = bias_variable([32])\n",
    "\n",
    "x_image = tf.reshape(x, [-1, 28, 28, 1])\n",
    "\n",
    "h_conv1 = tf.nn.relu(conv2d(x_image, W_conv1) + b_conv1)\n",
    "h_pool1 = max_pool_2x2(h_conv1)\n",
    "\n",
    "W_conv2 = weight_variable([5, 5, 32, 64])\n",
    "b_conv2 = bias_variable([64])\n",
    "\n",
    "h_conv2 = tf.nn.relu(conv2d(h_pool1, W_conv2) + b_conv2)\n",
    "h_pool2 = max_pool_2x2(h_conv2)\n",
    "\n",
    "W_fc1 = weight_variable([7 * 7 * 64, 1024]) ## 7x7 will be the size of the output image\n",
    "b_fc1 = bias_variable([1024])\n",
    "\n",
    "h_pool2_flat = tf.reshape(h_pool2, [-1, 7*7*64])\n",
    "h_fc1 = tf.nn.relu(tf.matmul(h_pool2_flat, W_fc1) + b_fc1)\n",
    "\n",
    "\n",
    "keep_prob = tf.placeholder(tf.float32)\n",
    "h_fc1_drop = tf.nn.dropout(h_fc1, keep_prob)\n",
    "\n",
    "\n",
    "W_fc2 = weight_variable([1024, 10])\n",
    "b_fc2 = bias_variable([10])\n",
    "\n",
    "y_conv = tf.matmul(h_fc1_drop, W_fc2) + b_fc2\n",
    "\n"
   ]
  },
  {
   "cell_type": "markdown",
   "metadata": {},
   "source": [
    "## Train model"
   ]
  },
  {
   "cell_type": "code",
   "execution_count": 16,
   "metadata": {
    "scrolled": true
   },
   "outputs": [
    {
     "name": "stdout",
     "output_type": "stream",
     "text": [
      "step 0, training accuracy 0.06\n",
      "step 100, training accuracy 0.9\n",
      "step 200, training accuracy 0.92\n",
      "step 300, training accuracy 0.9\n",
      "step 400, training accuracy 0.9\n",
      "step 500, training accuracy 0.9\n",
      "step 600, training accuracy 0.9\n",
      "step 700, training accuracy 0.96\n",
      "step 800, training accuracy 0.96\n",
      "step 900, training accuracy 0.92\n",
      "step 1000, training accuracy 0.98\n",
      "step 1100, training accuracy 1\n",
      "step 1200, training accuracy 0.98\n",
      "step 1300, training accuracy 1\n",
      "step 1400, training accuracy 0.98\n",
      "step 1500, training accuracy 0.94\n",
      "step 1600, training accuracy 0.98\n",
      "step 1700, training accuracy 0.98\n",
      "step 1800, training accuracy 1\n",
      "step 1900, training accuracy 0.96\n",
      "step 2000, training accuracy 0.96\n",
      "step 2100, training accuracy 1\n",
      "step 2200, training accuracy 0.98\n",
      "step 2300, training accuracy 1\n",
      "step 2400, training accuracy 1\n",
      "step 2500, training accuracy 0.96\n",
      "step 2600, training accuracy 1\n",
      "step 2700, training accuracy 0.98\n",
      "step 2800, training accuracy 1\n",
      "step 2900, training accuracy 0.96\n",
      "step 3000, training accuracy 0.98\n",
      "step 3100, training accuracy 1\n",
      "step 3200, training accuracy 0.96\n",
      "step 3300, training accuracy 0.98\n",
      "step 3400, training accuracy 0.98\n",
      "step 3500, training accuracy 1\n",
      "step 3600, training accuracy 0.98\n",
      "step 3700, training accuracy 0.98\n",
      "step 3800, training accuracy 0.98\n",
      "step 3900, training accuracy 1\n",
      "step 4000, training accuracy 1\n",
      "step 4100, training accuracy 1\n",
      "step 4200, training accuracy 1\n",
      "step 4300, training accuracy 1\n",
      "step 4400, training accuracy 1\n",
      "step 4500, training accuracy 1\n",
      "step 4600, training accuracy 0.98\n",
      "step 4700, training accuracy 1\n",
      "step 4800, training accuracy 1\n",
      "step 4900, training accuracy 0.98\n",
      "step 5000, training accuracy 1\n",
      "step 5100, training accuracy 0.96\n",
      "step 5200, training accuracy 1\n",
      "step 5300, training accuracy 1\n",
      "step 5400, training accuracy 1\n",
      "step 5500, training accuracy 1\n",
      "step 5600, training accuracy 1\n",
      "step 5700, training accuracy 0.98\n",
      "step 5800, training accuracy 0.98\n",
      "step 5900, training accuracy 1\n",
      "step 6000, training accuracy 1\n",
      "step 6100, training accuracy 0.96\n",
      "step 6200, training accuracy 1\n",
      "step 6300, training accuracy 1\n",
      "step 6400, training accuracy 1\n",
      "step 6500, training accuracy 1\n",
      "step 6600, training accuracy 1\n",
      "step 6700, training accuracy 1\n",
      "step 6800, training accuracy 0.98\n",
      "step 6900, training accuracy 0.96\n",
      "step 7000, training accuracy 1\n",
      "step 7100, training accuracy 1\n",
      "step 7200, training accuracy 0.98\n",
      "step 7300, training accuracy 1\n",
      "step 7400, training accuracy 1\n",
      "step 7500, training accuracy 0.98\n",
      "step 7600, training accuracy 0.98\n",
      "step 7700, training accuracy 1\n",
      "step 7800, training accuracy 1\n",
      "step 7900, training accuracy 1\n",
      "step 8000, training accuracy 1\n",
      "step 8100, training accuracy 1\n",
      "step 8200, training accuracy 1\n",
      "step 8300, training accuracy 0.98\n",
      "step 8400, training accuracy 1\n",
      "step 8500, training accuracy 1\n",
      "step 8600, training accuracy 1\n",
      "step 8700, training accuracy 1\n",
      "step 8800, training accuracy 1\n",
      "step 8900, training accuracy 1\n",
      "step 9000, training accuracy 1\n",
      "step 9100, training accuracy 1\n",
      "step 9200, training accuracy 1\n",
      "step 9300, training accuracy 0.96\n",
      "step 9400, training accuracy 1\n",
      "step 9500, training accuracy 0.98\n",
      "step 9600, training accuracy 1\n",
      "step 9700, training accuracy 1\n",
      "step 9800, training accuracy 0.98\n",
      "step 9900, training accuracy 1\n",
      "step 10000, training accuracy 1\n",
      "step 10100, training accuracy 0.98\n",
      "step 10200, training accuracy 0.98\n",
      "step 10300, training accuracy 1\n",
      "step 10400, training accuracy 1\n",
      "step 10500, training accuracy 0.98\n",
      "step 10600, training accuracy 1\n",
      "step 10700, training accuracy 1\n",
      "step 10800, training accuracy 0.98\n",
      "step 10900, training accuracy 1\n",
      "step 11000, training accuracy 1\n",
      "step 11100, training accuracy 1\n",
      "step 11200, training accuracy 1\n",
      "step 11300, training accuracy 1\n",
      "step 11400, training accuracy 1\n",
      "step 11500, training accuracy 1\n",
      "step 11600, training accuracy 1\n",
      "step 11700, training accuracy 1\n",
      "step 11800, training accuracy 1\n",
      "step 11900, training accuracy 1\n",
      "step 12000, training accuracy 1\n",
      "step 12100, training accuracy 1\n",
      "step 12200, training accuracy 1\n",
      "step 12300, training accuracy 1\n",
      "step 12400, training accuracy 1\n",
      "step 12500, training accuracy 1\n",
      "step 12600, training accuracy 0.98\n",
      "step 12700, training accuracy 1\n",
      "step 12800, training accuracy 1\n",
      "step 12900, training accuracy 1\n",
      "step 13000, training accuracy 1\n",
      "step 13100, training accuracy 1\n",
      "step 13200, training accuracy 1\n",
      "step 13300, training accuracy 1\n",
      "step 13400, training accuracy 0.98\n",
      "step 13500, training accuracy 1\n",
      "step 13600, training accuracy 0.98\n",
      "step 13700, training accuracy 1\n",
      "step 13800, training accuracy 1\n",
      "step 13900, training accuracy 1\n",
      "step 14000, training accuracy 1\n",
      "step 14100, training accuracy 1\n",
      "step 14200, training accuracy 1\n",
      "step 14300, training accuracy 1\n",
      "step 14400, training accuracy 1\n",
      "step 14500, training accuracy 1\n",
      "step 14600, training accuracy 1\n",
      "step 14700, training accuracy 0.98\n",
      "step 14800, training accuracy 1\n",
      "step 14900, training accuracy 1\n",
      "step 15000, training accuracy 1\n",
      "step 15100, training accuracy 1\n",
      "step 15200, training accuracy 1\n",
      "step 15300, training accuracy 1\n",
      "step 15400, training accuracy 1\n",
      "step 15500, training accuracy 1\n",
      "step 15600, training accuracy 1\n",
      "step 15700, training accuracy 1\n",
      "step 15800, training accuracy 1\n",
      "step 15900, training accuracy 1\n",
      "step 16000, training accuracy 1\n",
      "step 16100, training accuracy 1\n",
      "step 16200, training accuracy 1\n",
      "step 16300, training accuracy 0.98\n",
      "step 16400, training accuracy 0.98\n",
      "step 16500, training accuracy 1\n",
      "step 16600, training accuracy 1\n",
      "step 16700, training accuracy 1\n",
      "step 16800, training accuracy 1\n",
      "step 16900, training accuracy 1\n",
      "step 17000, training accuracy 1\n",
      "step 17100, training accuracy 1\n",
      "step 17200, training accuracy 0.98\n",
      "step 17300, training accuracy 1\n",
      "step 17400, training accuracy 1\n",
      "step 17500, training accuracy 0.98\n",
      "step 17600, training accuracy 1\n",
      "step 17700, training accuracy 1\n",
      "step 17800, training accuracy 1\n",
      "step 17900, training accuracy 1\n",
      "step 18000, training accuracy 1\n",
      "step 18100, training accuracy 1\n",
      "step 18200, training accuracy 1\n",
      "step 18300, training accuracy 1\n",
      "step 18400, training accuracy 1\n",
      "step 18500, training accuracy 1\n",
      "step 18600, training accuracy 1\n",
      "step 18700, training accuracy 1\n",
      "step 18800, training accuracy 1\n",
      "step 18900, training accuracy 1\n",
      "step 19000, training accuracy 1\n",
      "step 19100, training accuracy 1\n",
      "step 19200, training accuracy 1\n",
      "step 19300, training accuracy 1\n",
      "step 19400, training accuracy 1\n",
      "step 19500, training accuracy 0.98\n",
      "step 19600, training accuracy 1\n",
      "step 19700, training accuracy 1\n",
      "step 19800, training accuracy 1\n",
      "step 19900, training accuracy 1\n",
      "test accuracy 0.9919\n"
     ]
    }
   ],
   "source": [
    "cross_entropy = tf.reduce_mean(tf.nn.softmax_cross_entropy_with_logits(labels=y_true, logits=y_conv))\n",
    "train_step = tf.train.AdamOptimizer(1e-4).minimize(cross_entropy)\n",
    "correct_prediction = tf.equal(tf.argmax(y_conv, 1), tf.argmax(y_true, 1))\n",
    "accuracy = tf.reduce_mean(tf.cast(correct_prediction, tf.float32))\n",
    "\n",
    "with tf.Session() as sess:\n",
    "    sess.run(tf.global_variables_initializer())\n",
    "    acc=np.zeros(20000)\n",
    "    for i in range(20000):\n",
    "        batch = mnist.train.next_batch(50)\n",
    "        if i % 100 == 0:\n",
    "            train_accuracy = accuracy.eval(feed_dict={\n",
    "              x: batch[0], y_true: batch[1], keep_prob: 1.0})\n",
    "            print('step %d, training accuracy %g' % (i, train_accuracy))\n",
    "        train_step.run(feed_dict={x: batch[0], y_true: batch[1], keep_prob: 0.5})\n",
    "        acc[i]=accuracy.eval(feed_dict={x:batch[0], y_true: batch[1], keep_prob: 1.0})\n",
    "    print('test accuracy %g' % accuracy.eval(feed_dict={\n",
    "        x: mnist.test.images, y_true: mnist.test.labels, keep_prob: 1.0}))\n"
   ]
  },
  {
   "cell_type": "code",
   "execution_count": 17,
   "metadata": {},
   "outputs": [
    {
     "data": {
      "image/png": "[encoded data removed]",
      "text/plain": [
       "<matplotlib.figure.Figure at 0x7f073f1b9908>"
      ]
     },
     "metadata": {},
     "output_type": "display_data"
    }
   ],
   "source": [
    "plt.plot(acc)\n",
    "plt.show()"
   ]
  },
  {
   "cell_type": "markdown",
   "metadata": {},
   "source": [
    "## Build a Multilayer Convolutional  using Keras\n"
   ]
  },
  {
   "cell_type": "code",
   "execution_count": 57,
   "metadata": {
    "collapsed": true
   },
   "outputs": [],
   "source": [
    "from keras.layers import Input, Dense, Conv2D, MaxPooling2D, Reshape, Dropout, normalization\n",
    "from keras.models import Model\n",
    "from keras import optimizers\n",
    "from datetime import datetime\n",
    "\n",
    "\n",
    "input_img= Input(shape=(28,28,1))  # adapt this if using `channels_first` image data format\n",
    "\n",
    "#x=normalization.BatchNormalization()(x)\n",
    "h = Conv2D(32, (5, 5), activation='relu', padding='same')(input_img)\n",
    "h = MaxPooling2D((2, 2), padding='same')(h)\n",
    "h = Conv2D(64, (5, 5), activation='relu', padding='same')(h)\n",
    "h = MaxPooling2D((2, 2), padding='same')(h)\n",
    "h = Dropout(0.5)(h)\n",
    "h = Reshape((int(h.shape[1]*h.shape[2]*h.shape[3]),))(h)\n",
    "h = Dense(1024, activation='relu')(h)\n",
    "h = Dense(10, activation='softmax')(h)\n",
    "\n",
    "CNN = Model(input_img, h)\n",
    "sgd = optimizers.SGD(lr=0.005, decay=1e-6, momentum=0.9, nesterov=True)\n",
    "CNN.compile(optimizer='sgd', loss='categorical_crossentropy', metrics=['accuracy'])\n",
    "\n",
    "\n"
   ]
  },
  {
   "cell_type": "markdown",
   "metadata": {},
   "source": [
    "## Train model"
   ]
  },
  {
   "cell_type": "code",
   "execution_count": 58,
   "metadata": {},
   "outputs": [
    {
     "name": "stdout",
     "output_type": "stream",
     "text": [
      "(5000, 784, 1)\n",
      "(5000, 784, 1)\n",
      "Train on 55000 samples, validate on 5000 samples\n",
      "Epoch 1/10\n",
      "55000/55000 [==============================] - 186s - loss: 1.1957 - acc: 0.6266 - val_loss: 0.3069 - val_acc: 0.9116\n",
      "Epoch 2/10\n",
      "55000/55000 [==============================] - 233s - loss: 0.3140 - acc: 0.9047 - val_loss: 0.1875 - val_acc: 0.9456\n",
      "Epoch 3/10\n",
      "55000/55000 [==============================] - 211s - loss: 0.2135 - acc: 0.9356 - val_loss: 0.1346 - val_acc: 0.9616\n",
      "Epoch 4/10\n",
      "55000/55000 [==============================] - 206s - loss: 0.1670 - acc: 0.9500 - val_loss: 0.1085 - val_acc: 0.9710\n",
      "Epoch 5/10\n",
      "55000/55000 [==============================] - 200s - loss: 0.1397 - acc: 0.9575 - val_loss: 0.0919 - val_acc: 0.9746\n",
      "Epoch 6/10\n",
      "55000/55000 [==============================] - 191s - loss: 0.1244 - acc: 0.9625 - val_loss: 0.0813 - val_acc: 0.9776\n",
      "Epoch 7/10\n",
      "55000/55000 [==============================] - 190s - loss: 0.1129 - acc: 0.9659 - val_loss: 0.0762 - val_acc: 0.9766\n",
      "Epoch 8/10\n",
      "55000/55000 [==============================] - 205s - loss: 0.1029 - acc: 0.9687 - val_loss: 0.0671 - val_acc: 0.9798\n",
      "Epoch 9/10\n",
      "55000/55000 [==============================] - 207s - loss: 0.0961 - acc: 0.9703 - val_loss: 0.0620 - val_acc: 0.9814\n",
      "Epoch 10/10\n",
      "55000/55000 [==============================] - 193s - loss: 0.0901 - acc: 0.9719 - val_loss: 0.0591 - val_acc: 0.9828\n"
     ]
    }
   ],
   "source": [
    "x=np.zeros((mnist.train.images.shape[0], mnist.train.images.shape[1], 1))\n",
    "x[:,:,0]=mnist.train.images\n",
    "\n",
    "x=np.reshape(x,(55000,28,28,1))\n",
    "\n",
    "xval=np.zeros((mnist.validation.images.shape[0], mnist.validation.images.shape[1], 1))\n",
    "print(xval.shape)\n",
    "xval[:,:,0]=mnist.validation.images\n",
    "print(xval.shape)\n",
    "X_val=np.reshape(xval,(5000,28,28,1))\n",
    "\n",
    "y_true_val=mnist.validation.labels\n",
    "\n",
    "y_true=mnist.train.labels\n",
    "\n",
    "\n",
    "start=datetime.now()\n",
    "history=CNN.fit(x, y_true, epochs=10, batch_size=100, shuffle=True, validation_data=(X_val, y_true_val))\n",
    "time_r=datetime.now()-start\n"
   ]
  },
  {
   "cell_type": "code",
   "execution_count": 62,
   "metadata": {},
   "outputs": [
    {
     "data": {
      "image/png": "[encoded data removed]",
      "text/plain": [
       "<matplotlib.figure.Figure at 0x7f06f1e15e80>"
      ]
     },
     "metadata": {},
     "output_type": "display_data"
    },
    {
     "name": "stdout",
     "output_type": "stream",
     "text": [
      "(10000, 784, 1)\n",
      "(10000, 784, 1)\n",
      "Train accuracy= 0.971890917475\n",
      "Validation accuracy= 0.982800011635\n",
      "Test accuracy= 98.15\n",
      "Training time 0:33:46.286261\n"
     ]
    }
   ],
   "source": [
    "plt.figure(figsize=(15,10))\n",
    "plt.subplot(121)\n",
    "plt.plot(history.history['acc'], label='Train')\n",
    "plt.plot(history.history['val_acc'], label='Validation')\n",
    "plt.legend()\n",
    "plt.subplot(122)\n",
    "plt.plot(history.history['loss'], label='Train')\n",
    "plt.plot(history.history['val_loss'], label='Validation')\n",
    "plt.show()\n",
    "\n",
    "\n",
    "def accuracy(predictions, labels):\n",
    "    return (100.0 * np.sum(np.argmax(predictions, 1) == np.argmax(labels, 1))\n",
    "          / predictions.shape[0])\n",
    "\n",
    "\n",
    "\n",
    "xtest=np.zeros((mnist.test.images.shape[0], mnist.test.images.shape[1], 1))\n",
    "print(xtest.shape)\n",
    "xtest[:,:,0]=mnist.test.images\n",
    "print(xtest.shape)\n",
    "xTest=np.reshape(xtest,(10000,28,28,1))\n",
    "\n",
    "y_true_test=mnist.test.labels\n",
    "\n",
    "\n",
    "y_pred = CNN.predict(xTest)\n",
    "\n",
    "accTest=accuracy(y_pred, y_true_test)\n",
    "\n",
    "print('Train accuracy=', history.history['acc'][-1])\n",
    "print('Validation accuracy=', history.history['val_acc'][-1])\n",
    "\n",
    "print('Test accuracy=', accTest)\n",
    "print('Training time', time_r)"
   ]
  },
  {
   "cell_type": "markdown",
   "metadata": {},
   "source": []
  },
  {
   "cell_type": "markdown",
   "metadata": {},
   "source": [
    "# Classification of PD handwriting with a CNN in Keras"
   ]
  },
  {
   "cell_type": "code",
   "execution_count": 76,
   "metadata": {
    "collapsed": true
   },
   "outputs": [],
   "source": [
    "PATH_HC='./data/hc_image/200_150/'\n",
    "PATH_PD='./data/pd_image/200_150/'\n",
    "SIZE_IMAGE=[150,200]\n",
    "PIXEL_DEPTH=255\n",
    "\n",
    "FILTER_SIZE_C1=5\n",
    "FILTER_SIZE_C2=5\n",
    "FILTER_SIZE_C3=5\n",
    "\n",
    "DEPTH_C1=4\n",
    "DEPTH_C2=8\n",
    "DEPTH_C3=16\n",
    "\n",
    "HIDDEN=256\n",
    "BATCH_SIZE=128\n",
    "EPOCHS=100"
   ]
  },
  {
   "cell_type": "markdown",
   "metadata": {},
   "source": [
    "### Prepare data\n",
    "\n",
    "Read data\n"
   ]
  },
  {
   "cell_type": "code",
   "execution_count": 71,
   "metadata": {},
   "outputs": [
    {
     "name": "stdout",
     "output_type": "stream",
     "text": [
      "[  1.   2.   3.   4.   5.   6.   7.   8.   9.  10.  11.  12.  13.  14.  15.\n",
      "  16.  17.  18.  19.  20.  21.  22.  23.  24.  25.  26.  27.  28.  29.  30.\n",
      "  31.  32.  33.  34.  35.  36.  37.  38.  39.  40.]\n",
      "(679, 150, 200, 1)\n",
      "(520, 150, 200, 1)\n",
      "(679, 2) (520, 2)\n"
     ]
    }
   ],
   "source": [
    "import os\n",
    "from scipy import ndimage\n",
    "\n",
    "dirhc=os.listdir(PATH_HC)\n",
    "dirpd=os.listdir(PATH_PD)\n",
    "\n",
    "dirhc.sort()\n",
    "dirpd.sort()\n",
    "imageHC=np.zeros((len(dirhc), SIZE_IMAGE[0], SIZE_IMAGE[1],1))\n",
    "imagePD=np.zeros((len(dirpd), SIZE_IMAGE[0], SIZE_IMAGE[1],1))\n",
    "\n",
    "labelsHC=np.vstack((np.zeros(len(dirhc)), np.ones(len(dirhc)))).T\n",
    "labelsPD=np.vstack((np.ones(len(dirpd)), np.zeros(len(dirpd)))).T\n",
    "\n",
    "IDHC=np.zeros(len(dirhc))\n",
    "IDPD=np.zeros(len(dirpd))\n",
    "\n",
    "for j in range(len(dirhc)):\n",
    "    image_file=PATH_HC+dirhc[j]\n",
    "    image_data = (ndimage.imread(image_file).astype(float) - PIXEL_DEPTH / 2) / PIXEL_DEPTH\n",
    "    image_datagray=image_data.mean(axis=2)\n",
    "    imageHC[j,:,:,0]=image_datagray\n",
    "    IDHC[j]=int(dirhc[j][7:10])\n",
    "    \n",
    "print(np.unique(IDHC))\n",
    "    \n",
    "for j in range(len(dirpd)):\n",
    "    image_file=PATH_PD+dirpd[j]\n",
    "    image_data = (ndimage.imread(image_file).astype(float) - PIXEL_DEPTH / 2) / PIXEL_DEPTH\n",
    "    image_datagray=image_data.mean(axis=2)\n",
    "    imagePD[j,:,:,0]=image_datagray\n",
    "    IDPD[j]=int(dirpd[j][4:7])+max(IDHC)\n",
    "\n",
    "print(imageHC.shape)\n",
    "print(imagePD.shape)\n",
    "print(labelsHC.shape, labelsPD.shape)"
   ]
  },
  {
   "cell_type": "markdown",
   "metadata": {},
   "source": [
    "### Display some images"
   ]
  },
  {
   "cell_type": "code",
   "execution_count": 72,
   "metadata": {},
   "outputs": [
    {
     "data": {
      "image/png": "[encoded data removed]",
      "text/plain": [
       "<matplotlib.figure.Figure at 0x7f06f1a63748>"
      ]
     },
     "metadata": {},
     "output_type": "display_data"
    }
   ],
   "source": [
    "plt.figure(figsize=(15,15))\n",
    "plt.subplot(2,2,1)\n",
    "plt.imshow(imageHC[4,:,:,0])\n",
    "plt.subplot(2,2,2)\n",
    "plt.imshow(imagePD[14,:,:,0])\n",
    "plt.subplot(2,2,3)\n",
    "plt.imshow(imageHC[16,:,:,0])\n",
    "plt.subplot(2,2,4)\n",
    "plt.imshow(imagePD[50,:,:,0])\n",
    "plt.show()"
   ]
  },
  {
   "cell_type": "markdown",
   "metadata": {},
   "source": [
    "### Radomize data and stack for train and test"
   ]
  },
  {
   "cell_type": "code",
   "execution_count": 74,
   "metadata": {},
   "outputs": [
    {
     "name": "stdout",
     "output_type": "stream",
     "text": [
      "(1199, 150, 200, 1) (1199, 2) (1199,)\n",
      "(1088,) (111,)\n",
      "(1078,) (121,)\n",
      "(1079,) (120,)\n",
      "(1077,) (122,)\n",
      "(1077,) (122,)\n",
      "(1077,) (122,)\n",
      "(1078,) (121,)\n",
      "(1079,) (120,)\n",
      "(1079,) (120,)\n",
      "(1079,) (120,)\n",
      "(1079, 150, 200, 1) (1079, 2)\n",
      "(120, 150, 200, 1) (120, 2)\n"
     ]
    }
   ],
   "source": [
    "from sklearn.model_selection import GroupKFold\n",
    "\n",
    "images_all=np.concatenate((imageHC, imagePD), axis=0)\n",
    "labels_all=np.vstack((labelsHC, labelsPD))\n",
    "ID_all=np.hstack((IDHC, IDPD))\n",
    "\n",
    "\n",
    "def randomize(dataset, labels, ID):\n",
    "    permutation = np.random.permutation(labels.shape[0])\n",
    "    shuffled_dataset = dataset[permutation,:,:,:]\n",
    "    shuffled_labels = labels[permutation,:]\n",
    "    shuffled_ID=ID[permutation]\n",
    "    return shuffled_dataset, shuffled_labels, shuffled_ID\n",
    "\n",
    "\n",
    "dataset, labels, ID=randomize(images_all, labels_all, ID_all)\n",
    "\n",
    "print(dataset.shape, labels.shape, ID.shape)\n",
    "\n",
    "\n",
    "gkf = GroupKFold(n_splits=10)\n",
    "for train, test in gkf.split(dataset, labels, groups=ID):\n",
    "    print(train.shape, test.shape)\n",
    "    \n",
    "x_train=dataset[train,:,:,:]\n",
    "y_train=labels[train,:]\n",
    "x_test=dataset[test,:,:,:]\n",
    "y_test=labels[test,:]\n",
    "\n",
    "print(x_train.shape, y_train.shape)\n",
    "print(x_test.shape, y_test.shape)"
   ]
  },
  {
   "cell_type": "markdown",
   "metadata": {},
   "source": [
    "## Define the network architecture"
   ]
  },
  {
   "cell_type": "code",
   "execution_count": 88,
   "metadata": {},
   "outputs": [
    {
     "name": "stdout",
     "output_type": "stream",
     "text": [
      "(?, 19, 25, 16)\n",
      "7600\n",
      "(?, 7600)\n",
      "_________________________________________________________________\n",
      "Layer (type)                 Output Shape              Param #   \n",
      "=================================================================\n",
      "input_15 (InputLayer)        (None, 150, 200, 1)       0         \n",
      "_________________________________________________________________\n",
      "conv2d_34 (Conv2D)           (None, 150, 200, 4)       104       \n",
      "_________________________________________________________________\n",
      "max_pooling2d_33 (MaxPooling (None, 75, 100, 4)        0         \n",
      "_________________________________________________________________\n",
      "conv2d_35 (Conv2D)           (None, 75, 100, 8)        808       \n",
      "_________________________________________________________________\n",
      "max_pooling2d_34 (MaxPooling (None, 38, 50, 8)         0         \n",
      "_________________________________________________________________\n",
      "conv2d_36 (Conv2D)           (None, 38, 50, 16)        3216      \n",
      "_________________________________________________________________\n",
      "max_pooling2d_35 (MaxPooling (None, 19, 25, 16)        0         \n",
      "_________________________________________________________________\n",
      "reshape_16 (Reshape)         (None, 7600)              0         \n",
      "_________________________________________________________________\n",
      "dense_25 (Dense)             (None, 256)               1945856   \n",
      "_________________________________________________________________\n",
      "dense_26 (Dense)             (None, 2)                 514       \n",
      "=================================================================\n",
      "Total params: 1,950,498\n",
      "Trainable params: 1,950,498\n",
      "Non-trainable params: 0\n",
      "_________________________________________________________________\n"
     ]
    }
   ],
   "source": [
    "input_img = Input(shape=(SIZE_IMAGE[0], SIZE_IMAGE[1],1))  # adapt this if using `channels_first` image data format\n",
    "\n",
    "x = Conv2D(DEPTH_C1, (FILTER_SIZE_C1, FILTER_SIZE_C1), activation='relu', padding='same')(input_img)\n",
    "x = MaxPooling2D((2, 2), padding='same')(x)\n",
    "x = Conv2D(DEPTH_C2, (FILTER_SIZE_C2, FILTER_SIZE_C2), activation='relu', padding='same')(x)\n",
    "x = MaxPooling2D((2, 2), padding='same')(x)\n",
    "x = Conv2D(DEPTH_C3, (FILTER_SIZE_C3, FILTER_SIZE_C3), activation='relu', padding='same')(x)\n",
    "x = MaxPooling2D((2, 2), padding='same')(x)\n",
    "\n",
    "\n",
    "print(x.shape)\n",
    "print(x.shape[1]*x.shape[2]*x.shape[3])\n",
    "x= Reshape((int(x.shape[1]*x.shape[2]*x.shape[3]),))(x)\n",
    "print(x.shape)\n",
    "x = Dense(HIDDEN, activation='relu')(x)\n",
    "x = Dense(2, activation='softmax')(x)\n",
    "\n",
    "CNN = Model(input_img, x)\n",
    "CNN.compile(optimizer='rmsprop', loss='categorical_crossentropy')\n",
    "\n",
    "CNN.summary()"
   ]
  },
  {
   "cell_type": "markdown",
   "metadata": {},
   "source": [
    "## Train the network"
   ]
  },
  {
   "cell_type": "code",
   "execution_count": 85,
   "metadata": {
    "scrolled": true
   },
   "outputs": [
    {
     "name": "stdout",
     "output_type": "stream",
     "text": [
      "Epoch 1/100\n",
      "1079/1079 [==============================] - 15s - loss: 0.8821    \n",
      "Epoch 2/100\n",
      "1079/1079 [==============================] - 15s - loss: 0.6617    \n",
      "Epoch 3/100\n",
      "1079/1079 [==============================] - 15s - loss: 0.6380    \n",
      "Epoch 4/100\n",
      "1079/1079 [==============================] - 15s - loss: 0.6152    \n",
      "Epoch 5/100\n",
      "1079/1079 [==============================] - 18s - loss: 0.5938    \n",
      "Epoch 6/100\n",
      "1079/1079 [==============================] - 17s - loss: 0.5512    \n",
      "Epoch 7/100\n",
      "1079/1079 [==============================] - 18s - loss: 0.5786    \n",
      "Epoch 8/100\n",
      "1079/1079 [==============================] - 21s - loss: 0.4760    \n",
      "Epoch 9/100\n",
      "1079/1079 [==============================] - 19s - loss: 0.5206    \n",
      "Epoch 10/100\n",
      "1079/1079 [==============================] - 18s - loss: 0.4736    \n",
      "Epoch 11/100\n",
      "1079/1079 [==============================] - 17s - loss: 0.4365    \n",
      "Epoch 12/100\n",
      "1079/1079 [==============================] - 19s - loss: 0.4149    \n",
      "Epoch 13/100\n",
      "1079/1079 [==============================] - 19s - loss: 0.4130    \n",
      "Epoch 14/100\n",
      "1079/1079 [==============================] - 18s - loss: 0.3761    \n",
      "Epoch 15/100\n",
      "1079/1079 [==============================] - 19s - loss: 0.3373    \n",
      "Epoch 16/100\n",
      "1079/1079 [==============================] - 17s - loss: 0.3305    \n",
      "Epoch 17/100\n",
      "1079/1079 [==============================] - 18s - loss: 0.3185    \n",
      "Epoch 18/100\n",
      "1079/1079 [==============================] - 18s - loss: 0.2594    \n",
      "Epoch 19/100\n",
      "1079/1079 [==============================] - 17s - loss: 0.2595    \n",
      "Epoch 20/100\n",
      "1079/1079 [==============================] - 16s - loss: 0.2396    \n",
      "Epoch 21/100\n",
      "1079/1079 [==============================] - 15s - loss: 0.2261    \n",
      "Epoch 22/100\n",
      "1079/1079 [==============================] - 15s - loss: 0.1875    \n",
      "Epoch 23/100\n",
      "1079/1079 [==============================] - 16s - loss: 0.1921    \n",
      "Epoch 24/100\n",
      "1079/1079 [==============================] - 15s - loss: 0.1620    \n",
      "Epoch 25/100\n",
      "1079/1079 [==============================] - 16s - loss: 0.1750    \n",
      "Epoch 26/100\n",
      "1079/1079 [==============================] - 16s - loss: 0.1282    \n",
      "Epoch 27/100\n",
      "1079/1079 [==============================] - 16s - loss: 0.1327    \n",
      "Epoch 28/100\n",
      "1079/1079 [==============================] - 15s - loss: 0.0671    \n",
      "Epoch 29/100\n",
      "1079/1079 [==============================] - 15s - loss: 0.1698    \n",
      "Epoch 30/100\n",
      "1079/1079 [==============================] - 16s - loss: 0.0528    \n",
      "Epoch 31/100\n",
      "1079/1079 [==============================] - 15s - loss: 0.0992    \n",
      "Epoch 32/100\n",
      "1079/1079 [==============================] - 16s - loss: 0.0928    \n",
      "Epoch 33/100\n",
      "1079/1079 [==============================] - 16s - loss: 0.0696    \n",
      "Epoch 34/100\n",
      "1079/1079 [==============================] - 16s - loss: 0.0821    \n",
      "Epoch 35/100\n",
      "1079/1079 [==============================] - 16s - loss: 0.0360    \n",
      "Epoch 36/100\n",
      "1079/1079 [==============================] - 16s - loss: 0.0143    \n",
      "Epoch 37/100\n",
      "1079/1079 [==============================] - 16s - loss: 0.2149    \n",
      "Epoch 38/100\n",
      "1079/1079 [==============================] - 15s - loss: 0.0235    \n",
      "Epoch 39/100\n",
      "1079/1079 [==============================] - 16s - loss: 0.0103    \n",
      "Epoch 40/100\n",
      "1079/1079 [==============================] - 16s - loss: 0.0089    \n",
      "Epoch 41/100\n",
      "1079/1079 [==============================] - 16s - loss: 0.1792    \n",
      "Epoch 42/100\n",
      "1079/1079 [==============================] - 16s - loss: 0.0125    \n",
      "Epoch 43/100\n",
      "1079/1079 [==============================] - 15s - loss: 0.0072    \n",
      "Epoch 44/100\n",
      "1079/1079 [==============================] - 18s - loss: 0.0052    \n",
      "Epoch 45/100\n",
      "1079/1079 [==============================] - 17s - loss: 0.0044    \n",
      "Epoch 46/100\n",
      "1079/1079 [==============================] - 16s - loss: 0.4131    \n",
      "Epoch 47/100\n",
      "1079/1079 [==============================] - 16s - loss: 0.0185    \n",
      "Epoch 48/100\n",
      "1079/1079 [==============================] - 16s - loss: 0.0084    \n",
      "Epoch 49/100\n",
      "1079/1079 [==============================] - 16s - loss: 0.0050    \n",
      "Epoch 50/100\n",
      "1079/1079 [==============================] - 16s - loss: 0.0033    \n",
      "Epoch 51/100\n",
      "1079/1079 [==============================] - 18s - loss: 0.0027    \n",
      "Epoch 52/100\n",
      "1079/1079 [==============================] - 18s - loss: 0.1757    \n",
      "Epoch 53/100\n",
      "1079/1079 [==============================] - 17s - loss: 0.0098    \n",
      "Epoch 54/100\n",
      "1079/1079 [==============================] - 17s - loss: 0.0040    \n",
      "Epoch 55/100\n",
      "1079/1079 [==============================] - 17s - loss: 0.0023    \n",
      "Epoch 56/100\n",
      "1079/1079 [==============================] - 17s - loss: 0.0016    \n",
      "Epoch 57/100\n",
      "1079/1079 [==============================] - 17s - loss: 0.0013    \n",
      "Epoch 58/100\n",
      "1079/1079 [==============================] - 17s - loss: 8.3572e-04    \n",
      "Epoch 59/100\n",
      "1079/1079 [==============================] - 20s - loss: 0.0486       \n",
      "Epoch 60/100\n",
      "1079/1079 [==============================] - 18s - loss: 0.3078    \n",
      "Epoch 61/100\n",
      "1079/1079 [==============================] - 20s - loss: 0.0084    \n",
      "Epoch 62/100\n",
      "1079/1079 [==============================] - 19s - loss: 0.0037    \n",
      "Epoch 63/100\n",
      "1079/1079 [==============================] - 18s - loss: 0.0020    \n",
      "Epoch 64/100\n",
      "1079/1079 [==============================] - 17s - loss: 0.0013    \n",
      "Epoch 65/100\n",
      "1079/1079 [==============================] - 17s - loss: 8.9106e-04    \n",
      "Epoch 66/100\n",
      "1079/1079 [==============================] - 17s - loss: 5.9983e-04    \n",
      "Epoch 67/100\n",
      "1079/1079 [==============================] - 18s - loss: 4.1627e-04    \n",
      "Epoch 68/100\n",
      "1079/1079 [==============================] - 18s - loss: 4.3837e-04    \n",
      "Epoch 69/100\n",
      "1079/1079 [==============================] - 17s - loss: 2.1457e-04    \n",
      "Epoch 70/100\n",
      "1079/1079 [==============================] - 17s - loss: 0.0020        \n",
      "Epoch 71/100\n",
      "1079/1079 [==============================] - 17s - loss: 0.5212    \n",
      "Epoch 72/100\n",
      "1079/1079 [==============================] - 17s - loss: 0.0059    \n",
      "Epoch 73/100\n",
      "1079/1079 [==============================] - 17s - loss: 0.0030    \n",
      "Epoch 74/100\n",
      "1079/1079 [==============================] - 18s - loss: 0.0017    \n",
      "Epoch 75/100\n",
      "1079/1079 [==============================] - 17s - loss: 0.0010    \n",
      "Epoch 76/100\n",
      "1079/1079 [==============================] - 17s - loss: 6.6580e-04    \n",
      "Epoch 77/100\n",
      "1079/1079 [==============================] - 17s - loss: 4.5671e-04    \n",
      "Epoch 78/100\n",
      "1079/1079 [==============================] - 18s - loss: 3.2250e-04    \n",
      "Epoch 79/100\n",
      "1079/1079 [==============================] - 18s - loss: 2.3655e-04    \n",
      "Epoch 80/100\n",
      "1079/1079 [==============================] - 17s - loss: 1.6653e-04    \n",
      "Epoch 81/100\n",
      "1079/1079 [==============================] - 16s - loss: 1.3732e-04    \n",
      "Epoch 82/100\n",
      "1079/1079 [==============================] - 16s - loss: 1.4317e-04    \n",
      "Epoch 83/100\n",
      "1079/1079 [==============================] - 16s - loss: 0.5172    \n",
      "Epoch 84/100\n",
      "1079/1079 [==============================] - 16s - loss: 0.0057    \n",
      "Epoch 85/100\n",
      "1079/1079 [==============================] - 16s - loss: 0.0027    \n",
      "Epoch 86/100\n",
      "1079/1079 [==============================] - 16s - loss: 0.0015    \n",
      "Epoch 87/100\n",
      "1079/1079 [==============================] - 18s - loss: 8.7995e-04    \n",
      "Epoch 88/100\n",
      "1079/1079 [==============================] - 20s - loss: 5.4683e-04    \n",
      "Epoch 89/100\n",
      "1079/1079 [==============================] - 17s - loss: 3.5211e-04    \n",
      "Epoch 90/100\n",
      "1079/1079 [==============================] - 16s - loss: 2.2982e-04    \n",
      "Epoch 91/100\n",
      "1079/1079 [==============================] - 16s - loss: 1.5427e-04    \n",
      "Epoch 92/100\n",
      "1079/1079 [==============================] - 17s - loss: 1.0542e-04    \n",
      "Epoch 93/100\n",
      "1079/1079 [==============================] - 17s - loss: 9.3979e-05    \n",
      "Epoch 94/100\n",
      "1079/1079 [==============================] - 18s - loss: 5.0947e-05    \n",
      "Epoch 95/100\n",
      "1079/1079 [==============================] - 16s - loss: 3.5153e-05    \n",
      "Epoch 96/100\n",
      "1079/1079 [==============================] - 16s - loss: 0.3652    \n",
      "Epoch 97/100\n",
      "1079/1079 [==============================] - 17s - loss: 0.0035    \n",
      "Epoch 98/100\n",
      "1079/1079 [==============================] - 18s - loss: 0.0017    \n",
      "Epoch 99/100\n",
      "1079/1079 [==============================] - 18s - loss: 9.2956e-04    \n",
      "Epoch 100/100\n",
      "1079/1079 [==============================] - 16s - loss: 5.5664e-04    \n"
     ]
    },
    {
     "data": {
      "text/plain": [
       "[<matplotlib.lines.Line2D at 0x7f0659b9fa58>]"
      ]
     },
     "execution_count": 85,
     "metadata": {},
     "output_type": "execute_result"
    },
    {
     "data": {
      "image/png": "[encoded data removed]",
      "text/plain": [
       "<matplotlib.figure.Figure at 0x7f06f1ccde48>"
      ]
     },
     "metadata": {},
     "output_type": "display_data"
    }
   ],
   "source": [
    "history=CNN.fit(x_train, y_train,\n",
    "                epochs=EPOCHS,\n",
    "                batch_size=BATCH_SIZE,\n",
    "                shuffle=True)\n",
    "\n",
    "plt.plot(history.history['loss'])"
   ]
  },
  {
   "cell_type": "markdown",
   "metadata": {},
   "source": [
    "### Predict output of the CNN"
   ]
  },
  {
   "cell_type": "code",
   "execution_count": 83,
   "metadata": {},
   "outputs": [
    {
     "name": "stdout",
     "output_type": "stream",
     "text": [
      "(120, 2)\n",
      "[0 1 0 0 1 0 0 0 1 0 0 0 1 1 1 1 0 1 0 0 0 0 0 1 0 0 0 1 0 0 1 1 1 0 0 1 0\n",
      " 0 1 0 0 0 0 1 0 1 0 0 0 0 0 1 0 1 1 0 0 1 0 0 0 0 0 1 0 1 1 0 1 0 0 0 1 1\n",
      " 0 0 1 0 1 0 0 0 0 1 0 0 0 0 1 1 0 1 1 1 1 1 0 1 0 0 1 0 1 1 1 0 1 1 1 1 0\n",
      " 1 0 1 1 1 1 0 0 0]\n",
      "[1 1 0 0 1 1 0 0 1 0 0 0 0 0 1 0 1 1 1 1 0 0 1 0 0 1 0 1 0 0 0 1 1 1 1 1 1\n",
      " 0 1 0 1 0 1 1 0 1 0 1 0 1 0 1 0 0 1 0 0 0 0 0 0 0 1 1 0 0 0 0 1 0 1 0 1 1\n",
      " 0 0 1 0 1 0 0 0 0 0 0 1 1 0 1 1 1 1 0 1 1 1 0 1 0 0 1 1 0 1 1 0 1 1 1 1 0\n",
      " 1 0 0 1 1 0 1 0 0]\n",
      "0.708333333333\n"
     ]
    }
   ],
   "source": [
    "y_pred = CNN.predict(x_test)\n",
    "print (y_pred.shape)\n",
    "\n",
    "y_test1=np.argmax(y_test,axis=1)\n",
    "print(y_test1)\n",
    "y_pred1=np.argmax(y_pred,axis=1)\n",
    "print(y_pred1)\n",
    "\n",
    "from sklearn.metrics import accuracy_score\n",
    "\n",
    "print(accuracy_score(y_test1, y_pred1))\n",
    "\n"
   ]
  },
  {
   "cell_type": "markdown",
   "metadata": {},
   "source": [
    "# Did i already learn TensorFlow and deep learning?\n",
    "\n",
    "## NO\n",
    "\n",
    "\n",
    "Missing: \n",
    "\n",
    "1. Recrrent neural networks and LSTM cells\n",
    "\n",
    "<img src=\"https://deeplearning4j.org/img/greff_lstm_diagram.png\" width=\"500\" align=\"middle\">\n",
    "\n",
    "2. Other architectures\n",
    "\n",
    "http://www.asimovinstitute.org/neural-network-zoo/\n",
    "\n",
    "3. Conventional architectures\n",
    "\n",
    "    VGG 16 (https://arxiv.org/pdf/1409.1556.pdf)\n",
    "    \n",
    "    Inception <img src=\"http://machinethink.net/images/vggnet-convolutional-neural-network-iphone/Inception.png\" width=\"800\" align=\"middle\">\n",
    "    \n",
    "    Squeezenet (https://arxiv.org/pdf/1602.07360.pdf)\n",
    "    \n",
    "    Densenet (https://arxiv.org/pdf/1608.06993.pdf)\n",
    "\n",
    "\n",
    "4. Generative adversarial networks\n",
    "\n",
    "    Inception <img src=\"http://www.kdnuggets.com/wp-content/uploads/generative-adversarial-network.png\" width=\"500\" align=\"middle\">\n"
   ]
  },
  {
   "cell_type": "markdown",
   "metadata": {},
   "source": [
    "# What else to learn\n",
    "\n",
    "## Spark\n",
    "\n",
    "<img src=\"https://spark.apache.org/images/spark-logo-trademark.png\" width=\"300\" align=\"middle\">\n",
    "<img src=\"https://qph.ec.quoracdn.net/main-thumb-t-1565095-200-qoqwygfcsqtavnxgaiqjxrfukbqvgtps.jpeg\" width=\"300\" align=\"middle\">\n",
    "\n",
    "https://databricks.com/blog/2016/01/25/deep-learning-with-apache-spark-and-tensorflow.html\n",
    "\n",
    "<img src=\"https://databricks.com/wp-content/uploads/2016/01/image04.png\" width=\"500\" align=\"middle\">\n",
    "\n",
    "\n",
    "## Bayesian optimization\n",
    "\n",
    "https://github.com/fmfn/BayesianOptimization\n",
    "\n",
    "\n",
    "\n"
   ]
  },
  {
   "cell_type": "markdown",
   "metadata": {
    "collapsed": true
   },
   "source": [
    "## Useful libraries\n",
    "\n",
    "\n",
    "### KerasVis\n",
    "https://raghakot.github.io/keras-vis/\n",
    "\n",
    "### Tensorfire\n",
    "https://tenso.rs/\n",
    "\n"
   ]
  },
  {
   "cell_type": "code",
   "execution_count": null,
   "metadata": {
    "collapsed": true
   },
   "outputs": [],
   "source": []
  }
 ],
 "metadata": {
  "kernelspec": {
   "display_name": "Python 3",
   "language": "python",
   "name": "python3"
  },
  "language_info": {
   "codemirror_mode": {
    "name": "ipython",
    "version": 3
   },
   "file_extension": ".py",
   "mimetype": "text/x-python",
   "name": "python",
   "nbconvert_exporter": "python",
   "pygments_lexer": "ipython3",
   "version": "3.6.1"
  }
 },
 "nbformat": 4,
 "nbformat_minor": 2
}
